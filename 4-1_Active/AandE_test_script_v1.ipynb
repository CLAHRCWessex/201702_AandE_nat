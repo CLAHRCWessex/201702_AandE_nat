{
 "cells": [
  {
   "cell_type": "markdown",
   "metadata": {},
   "source": [
    "# A&E testing 1\n",
    "\n",
    "This script is for some initial testing of the previous A&E data:\n",
    "<ul>\n",
    "<li>quick regression analysis</li>\n",
    "<li>plotting of variables previously made over time</li>\n",
    "</ul>\n",
    "\n"
   ]
  },
  {
   "cell_type": "code",
   "execution_count": 98,
   "metadata": {
    "collapsed": true
   },
   "outputs": [],
   "source": [
    "%matplotlib inline\n",
    "import pandas as pd\n",
    "import numpy as np\n",
    "import seaborn as sns\n",
    "import statsmodels.api as sm\n",
    "import matplotlib.pyplot as plt\n"
   ]
  },
  {
   "cell_type": "code",
   "execution_count": 10,
   "metadata": {
    "collapsed": false
   },
   "outputs": [
    {
     "name": "stdout",
     "output_type": "stream",
     "text": [
      "hello\n"
     ]
    }
   ],
   "source": [
    "print('hello world')"
   ]
  },
  {
   "cell_type": "code",
   "execution_count": 11,
   "metadata": {
    "collapsed": false
   },
   "outputs": [
    {
     "name": "stdout",
     "output_type": "stream",
     "text": [
      " Volume in drive H is users\n",
      " Volume Serial Number is 009A-9A03\n",
      "\n",
      " Directory of H:\\20170113_AandE\\3_Data\\3-2_Archive\\prev_anal\n",
      "\n",
      "13/02/2017  15:59    <DIR>          .\n",
      "13/02/2017  14:03    <DIR>          ..\n",
      "03/11/2015  15:50         1,067,775 QUARTERLY_data_set_forweb.csv\n",
      "13/02/2017  14:02    <DIR>          NHSE_dtransfers\n",
      "03/11/2015  10:11           251,536 quarterly_beddays_night.csv\n",
      "03/11/2015  10:18             6,427 missing_analysis_27_10_15.csv\n",
      "03/11/2015  12:25            11,234 metadata_v1.xlsx\n",
      "17/09/2015  13:34               644 about.txt\n",
      "09/02/2016  11:47         1,047,291 QUARTERLY_data_set_v1.csv\n",
      "26/10/2015  12:16             3,333 missing_analysis_21_10_15_v2.csv\n",
      "13/02/2017  15:26           874,415 quarterly_analysis_v1.ipynb\n",
      "13/02/2017  14:03    <DIR>          NHSE_beddays\n",
      "21/10/2015  16:58           204,502 quarterly_beddays_day.csv\n",
      "13/02/2017  14:03    <DIR>          NHSE_activity(QAR)\n",
      "22/10/2015  16:47           176,466 quarterly_dtransfers.csv\n",
      "09/02/2016  11:49         1,357,702 quarterly_collate_all_v2.ipynb\n",
      "21/10/2015  17:14           829,837 quarterly_activity(QAR)_elec_inp.csv\n",
      "01/12/2015  15:58           103,975 a_e_quarterly_data.csv\n",
      "22/10/2015  11:14           164,473 quarterly_aggregated_NHSE_weeklydata.csv\n",
      "15/09/2015  12:46             1,282 acute_orgs.csv\n",
      "13/02/2017  14:03    <DIR>          NHSE_weeklydata\n",
      "09/02/2016  11:48         1,728,304 RGdata.csv\n",
      "              16 File(s)      7,829,196 bytes\n",
      "               6 Dir(s)  221,029,551,829,504 bytes free\n"
     ]
    }
   ],
   "source": [
    "!dir \"../../3_Data/3-2_Archive/prev_anal/\""
   ]
  },
  {
   "cell_type": "code",
   "execution_count": 12,
   "metadata": {
    "collapsed": false
   },
   "outputs": [],
   "source": [
    "dta = pd.read_csv('../../3_Data/3-2_Archive/prev_anal/QUARTERLY_data_set_v1.csv')"
   ]
  },
  {
   "cell_type": "code",
   "execution_count": 13,
   "metadata": {
    "collapsed": false
   },
   "outputs": [
    {
     "data": {
      "text/html": [
       "<div>\n",
       "<table border=\"1\" class=\"dataframe\">\n",
       "  <thead>\n",
       "    <tr style=\"text-align: right;\">\n",
       "      <th></th>\n",
       "      <th>year</th>\n",
       "      <th>quarter</th>\n",
       "      <th>org_code</th>\n",
       "      <th>v1_4hr_target</th>\n",
       "      <th>v2_adm_ratio</th>\n",
       "      <th>v3_adm_ratio_ED</th>\n",
       "      <th>v4_adm_ratio_other</th>\n",
       "      <th>v5_adm_4hr_target</th>\n",
       "      <th>v6_type1_vs_all_adm_ratio</th>\n",
       "      <th>v7_other_vs_all_adm_ratio</th>\n",
       "      <th>...</th>\n",
       "      <th>v35_nightbed_adm_ratio_ED</th>\n",
       "      <th>v40_days_delay_NHS</th>\n",
       "      <th>v41_days_delay_SCare</th>\n",
       "      <th>v42_days_delay_both</th>\n",
       "      <th>v43_days_delay_sum</th>\n",
       "      <th>v50_elec_adm_gp_prop</th>\n",
       "      <th>v51_elec_adm_vs_decision_to_admit</th>\n",
       "      <th>v52_gp_ref_elec_adm_ratio</th>\n",
       "      <th>v53_ED_elective_adm_ratio</th>\n",
       "      <th>v54_emerg_vs_elective_adm_ratio</th>\n",
       "    </tr>\n",
       "  </thead>\n",
       "  <tbody>\n",
       "    <tr>\n",
       "      <th>0</th>\n",
       "      <td>2010.0</td>\n",
       "      <td>4.0</td>\n",
       "      <td>RA2</td>\n",
       "      <td>0.932494</td>\n",
       "      <td>0.655829</td>\n",
       "      <td>0.571967</td>\n",
       "      <td>0.083862</td>\n",
       "      <td>1.000000</td>\n",
       "      <td>0.645103</td>\n",
       "      <td>0.127872</td>\n",
       "      <td>...</td>\n",
       "      <td>NaN</td>\n",
       "      <td>NaN</td>\n",
       "      <td>NaN</td>\n",
       "      <td>NaN</td>\n",
       "      <td>NaN</td>\n",
       "      <td>NaN</td>\n",
       "      <td>NaN</td>\n",
       "      <td>NaN</td>\n",
       "      <td>NaN</td>\n",
       "      <td>NaN</td>\n",
       "    </tr>\n",
       "    <tr>\n",
       "      <th>1</th>\n",
       "      <td>2010.0</td>\n",
       "      <td>4.0</td>\n",
       "      <td>RA3</td>\n",
       "      <td>0.934173</td>\n",
       "      <td>0.259067</td>\n",
       "      <td>0.228001</td>\n",
       "      <td>0.031066</td>\n",
       "      <td>0.999179</td>\n",
       "      <td>0.866878</td>\n",
       "      <td>0.119915</td>\n",
       "      <td>...</td>\n",
       "      <td>NaN</td>\n",
       "      <td>NaN</td>\n",
       "      <td>NaN</td>\n",
       "      <td>NaN</td>\n",
       "      <td>NaN</td>\n",
       "      <td>NaN</td>\n",
       "      <td>NaN</td>\n",
       "      <td>NaN</td>\n",
       "      <td>NaN</td>\n",
       "      <td>NaN</td>\n",
       "    </tr>\n",
       "    <tr>\n",
       "      <th>2</th>\n",
       "      <td>2010.0</td>\n",
       "      <td>4.0</td>\n",
       "      <td>RA4</td>\n",
       "      <td>0.948678</td>\n",
       "      <td>0.364295</td>\n",
       "      <td>0.322418</td>\n",
       "      <td>0.041877</td>\n",
       "      <td>1.000000</td>\n",
       "      <td>0.885048</td>\n",
       "      <td>0.114952</td>\n",
       "      <td>...</td>\n",
       "      <td>NaN</td>\n",
       "      <td>NaN</td>\n",
       "      <td>NaN</td>\n",
       "      <td>NaN</td>\n",
       "      <td>NaN</td>\n",
       "      <td>NaN</td>\n",
       "      <td>NaN</td>\n",
       "      <td>NaN</td>\n",
       "      <td>NaN</td>\n",
       "      <td>NaN</td>\n",
       "    </tr>\n",
       "    <tr>\n",
       "      <th>3</th>\n",
       "      <td>2010.0</td>\n",
       "      <td>4.0</td>\n",
       "      <td>RA7</td>\n",
       "      <td>0.937531</td>\n",
       "      <td>0.666667</td>\n",
       "      <td>0.490251</td>\n",
       "      <td>0.176415</td>\n",
       "      <td>0.976250</td>\n",
       "      <td>0.732560</td>\n",
       "      <td>0.264623</td>\n",
       "      <td>...</td>\n",
       "      <td>NaN</td>\n",
       "      <td>NaN</td>\n",
       "      <td>NaN</td>\n",
       "      <td>NaN</td>\n",
       "      <td>NaN</td>\n",
       "      <td>NaN</td>\n",
       "      <td>NaN</td>\n",
       "      <td>NaN</td>\n",
       "      <td>NaN</td>\n",
       "      <td>NaN</td>\n",
       "    </tr>\n",
       "    <tr>\n",
       "      <th>4</th>\n",
       "      <td>2010.0</td>\n",
       "      <td>4.0</td>\n",
       "      <td>RA9</td>\n",
       "      <td>0.987652</td>\n",
       "      <td>0.373792</td>\n",
       "      <td>0.356083</td>\n",
       "      <td>0.017708</td>\n",
       "      <td>0.998947</td>\n",
       "      <td>0.952625</td>\n",
       "      <td>0.047375</td>\n",
       "      <td>...</td>\n",
       "      <td>NaN</td>\n",
       "      <td>NaN</td>\n",
       "      <td>NaN</td>\n",
       "      <td>NaN</td>\n",
       "      <td>NaN</td>\n",
       "      <td>NaN</td>\n",
       "      <td>NaN</td>\n",
       "      <td>NaN</td>\n",
       "      <td>NaN</td>\n",
       "      <td>NaN</td>\n",
       "    </tr>\n",
       "  </tbody>\n",
       "</table>\n",
       "<p>5 rows × 25 columns</p>\n",
       "</div>"
      ],
      "text/plain": [
       "     year  quarter org_code  v1_4hr_target  v2_adm_ratio  v3_adm_ratio_ED  \\\n",
       "0  2010.0      4.0      RA2       0.932494      0.655829         0.571967   \n",
       "1  2010.0      4.0      RA3       0.934173      0.259067         0.228001   \n",
       "2  2010.0      4.0      RA4       0.948678      0.364295         0.322418   \n",
       "3  2010.0      4.0      RA7       0.937531      0.666667         0.490251   \n",
       "4  2010.0      4.0      RA9       0.987652      0.373792         0.356083   \n",
       "\n",
       "   v4_adm_ratio_other  v5_adm_4hr_target  v6_type1_vs_all_adm_ratio  \\\n",
       "0            0.083862           1.000000                   0.645103   \n",
       "1            0.031066           0.999179                   0.866878   \n",
       "2            0.041877           1.000000                   0.885048   \n",
       "3            0.176415           0.976250                   0.732560   \n",
       "4            0.017708           0.998947                   0.952625   \n",
       "\n",
       "   v7_other_vs_all_adm_ratio               ...                 \\\n",
       "0                   0.127872               ...                  \n",
       "1                   0.119915               ...                  \n",
       "2                   0.114952               ...                  \n",
       "3                   0.264623               ...                  \n",
       "4                   0.047375               ...                  \n",
       "\n",
       "   v35_nightbed_adm_ratio_ED  v40_days_delay_NHS  v41_days_delay_SCare  \\\n",
       "0                        NaN                 NaN                   NaN   \n",
       "1                        NaN                 NaN                   NaN   \n",
       "2                        NaN                 NaN                   NaN   \n",
       "3                        NaN                 NaN                   NaN   \n",
       "4                        NaN                 NaN                   NaN   \n",
       "\n",
       "   v42_days_delay_both  v43_days_delay_sum  v50_elec_adm_gp_prop  \\\n",
       "0                  NaN                 NaN                   NaN   \n",
       "1                  NaN                 NaN                   NaN   \n",
       "2                  NaN                 NaN                   NaN   \n",
       "3                  NaN                 NaN                   NaN   \n",
       "4                  NaN                 NaN                   NaN   \n",
       "\n",
       "   v51_elec_adm_vs_decision_to_admit  v52_gp_ref_elec_adm_ratio  \\\n",
       "0                                NaN                        NaN   \n",
       "1                                NaN                        NaN   \n",
       "2                                NaN                        NaN   \n",
       "3                                NaN                        NaN   \n",
       "4                                NaN                        NaN   \n",
       "\n",
       "   v53_ED_elective_adm_ratio  v54_emerg_vs_elective_adm_ratio  \n",
       "0                        NaN                              NaN  \n",
       "1                        NaN                              NaN  \n",
       "2                        NaN                              NaN  \n",
       "3                        NaN                              NaN  \n",
       "4                        NaN                              NaN  \n",
       "\n",
       "[5 rows x 25 columns]"
      ]
     },
     "execution_count": 13,
     "metadata": {},
     "output_type": "execute_result"
    }
   ],
   "source": [
    "dta.head()"
   ]
  },
  {
   "cell_type": "markdown",
   "metadata": {},
   "source": [
    "# Plotting variables over time"
   ]
  },
  {
   "cell_type": "code",
   "execution_count": 14,
   "metadata": {
    "collapsed": false
   },
   "outputs": [
    {
     "data": {
      "text/plain": [
       "(2828, 25)"
      ]
     },
     "execution_count": 14,
     "metadata": {},
     "output_type": "execute_result"
    }
   ],
   "source": [
    "dta.shape"
   ]
  },
  {
   "cell_type": "code",
   "execution_count": 41,
   "metadata": {
    "collapsed": false
   },
   "outputs": [],
   "source": [
    "#dta.groupby(['year','quarter']).median()"
   ]
  },
  {
   "cell_type": "code",
   "execution_count": 35,
   "metadata": {
    "collapsed": false
   },
   "outputs": [
    {
     "data": {
      "text/plain": [
       "Index(['year', 'quarter', 'org_code', 'v1_4hr_target', 'v2_adm_ratio',\n",
       "       'v3_adm_ratio_ED', 'v4_adm_ratio_other', 'v5_adm_4hr_target',\n",
       "       'v6_type1_vs_all_adm_ratio', 'v7_other_vs_all_adm_ratio',\n",
       "       'v30_daybed_occ_perc', 'v31_daybed_adm_ratio',\n",
       "       'v32_daybed_adm_ratio_ED', 'v33_nightbed_occ_perc',\n",
       "       'v34_nightbed_adm_ratio', 'v35_nightbed_adm_ratio_ED',\n",
       "       'v40_days_delay_NHS', 'v41_days_delay_SCare', 'v42_days_delay_both',\n",
       "       'v43_days_delay_sum', 'v50_elec_adm_gp_prop',\n",
       "       'v51_elec_adm_vs_decision_to_admit', 'v52_gp_ref_elec_adm_ratio',\n",
       "       'v53_ED_elective_adm_ratio', 'v54_emerg_vs_elective_adm_ratio'],\n",
       "      dtype='object')"
      ]
     },
     "execution_count": 35,
     "metadata": {},
     "output_type": "execute_result"
    }
   ],
   "source": [
    "dta.columns"
   ]
  },
  {
   "cell_type": "code",
   "execution_count": 40,
   "metadata": {
    "collapsed": false
   },
   "outputs": [
    {
     "data": {
      "text/html": [
       "<div>\n",
       "<table border=\"1\" class=\"dataframe\">\n",
       "  <thead>\n",
       "    <tr style=\"text-align: right;\">\n",
       "      <th></th>\n",
       "      <th>quarter</th>\n",
       "      <th>v1_4hr_target</th>\n",
       "      <th>v2_adm_ratio</th>\n",
       "      <th>v3_adm_ratio_ED</th>\n",
       "      <th>v4_adm_ratio_other</th>\n",
       "      <th>v5_adm_4hr_target</th>\n",
       "      <th>v6_type1_vs_all_adm_ratio</th>\n",
       "      <th>v7_other_vs_all_adm_ratio</th>\n",
       "      <th>v30_daybed_occ_perc</th>\n",
       "      <th>v31_daybed_adm_ratio</th>\n",
       "      <th>...</th>\n",
       "      <th>v35_nightbed_adm_ratio_ED</th>\n",
       "      <th>v40_days_delay_NHS</th>\n",
       "      <th>v41_days_delay_SCare</th>\n",
       "      <th>v42_days_delay_both</th>\n",
       "      <th>v43_days_delay_sum</th>\n",
       "      <th>v50_elec_adm_gp_prop</th>\n",
       "      <th>v51_elec_adm_vs_decision_to_admit</th>\n",
       "      <th>v52_gp_ref_elec_adm_ratio</th>\n",
       "      <th>v53_ED_elective_adm_ratio</th>\n",
       "      <th>v54_emerg_vs_elective_adm_ratio</th>\n",
       "    </tr>\n",
       "    <tr>\n",
       "      <th>year</th>\n",
       "      <th></th>\n",
       "      <th></th>\n",
       "      <th></th>\n",
       "      <th></th>\n",
       "      <th></th>\n",
       "      <th></th>\n",
       "      <th></th>\n",
       "      <th></th>\n",
       "      <th></th>\n",
       "      <th></th>\n",
       "      <th></th>\n",
       "      <th></th>\n",
       "      <th></th>\n",
       "      <th></th>\n",
       "      <th></th>\n",
       "      <th></th>\n",
       "      <th></th>\n",
       "      <th></th>\n",
       "      <th></th>\n",
       "      <th></th>\n",
       "      <th></th>\n",
       "    </tr>\n",
       "  </thead>\n",
       "  <tbody>\n",
       "    <tr>\n",
       "      <th>2010.0</th>\n",
       "      <td>4.0</td>\n",
       "      <td>0.958870</td>\n",
       "      <td>0.485986</td>\n",
       "      <td>0.325620</td>\n",
       "      <td>0.142890</td>\n",
       "      <td>0.995812</td>\n",
       "      <td>0.689255</td>\n",
       "      <td>0.293065</td>\n",
       "      <td>NaN</td>\n",
       "      <td>NaN</td>\n",
       "      <td>...</td>\n",
       "      <td>NaN</td>\n",
       "      <td>NaN</td>\n",
       "      <td>NaN</td>\n",
       "      <td>NaN</td>\n",
       "      <td>NaN</td>\n",
       "      <td>NaN</td>\n",
       "      <td>NaN</td>\n",
       "      <td>NaN</td>\n",
       "      <td>NaN</td>\n",
       "      <td>NaN</td>\n",
       "    </tr>\n",
       "    <tr>\n",
       "      <th>2011.0</th>\n",
       "      <td>2.5</td>\n",
       "      <td>0.963219</td>\n",
       "      <td>0.443115</td>\n",
       "      <td>0.305637</td>\n",
       "      <td>0.119306</td>\n",
       "      <td>0.997127</td>\n",
       "      <td>0.701646</td>\n",
       "      <td>0.283053</td>\n",
       "      <td>0.914900</td>\n",
       "      <td>186.253217</td>\n",
       "      <td>...</td>\n",
       "      <td>12.020868</td>\n",
       "      <td>11.163805</td>\n",
       "      <td>1.713690</td>\n",
       "      <td>0.0</td>\n",
       "      <td>16.397871</td>\n",
       "      <td>0.626592</td>\n",
       "      <td>0.895568</td>\n",
       "      <td>2.287555</td>\n",
       "      <td>1.226509</td>\n",
       "      <td>1.774814</td>\n",
       "    </tr>\n",
       "    <tr>\n",
       "      <th>2012.0</th>\n",
       "      <td>3.0</td>\n",
       "      <td>0.957191</td>\n",
       "      <td>0.451919</td>\n",
       "      <td>0.313491</td>\n",
       "      <td>0.115404</td>\n",
       "      <td>0.995989</td>\n",
       "      <td>0.716683</td>\n",
       "      <td>0.272150</td>\n",
       "      <td>0.911494</td>\n",
       "      <td>203.360403</td>\n",
       "      <td>...</td>\n",
       "      <td>13.525825</td>\n",
       "      <td>12.288197</td>\n",
       "      <td>1.769909</td>\n",
       "      <td>0.0</td>\n",
       "      <td>18.205116</td>\n",
       "      <td>0.627774</td>\n",
       "      <td>0.891065</td>\n",
       "      <td>2.318313</td>\n",
       "      <td>1.353522</td>\n",
       "      <td>1.810469</td>\n",
       "    </tr>\n",
       "    <tr>\n",
       "      <th>2013.0</th>\n",
       "      <td>2.5</td>\n",
       "      <td>0.952423</td>\n",
       "      <td>0.474658</td>\n",
       "      <td>0.323700</td>\n",
       "      <td>0.118077</td>\n",
       "      <td>0.994265</td>\n",
       "      <td>0.723190</td>\n",
       "      <td>0.264959</td>\n",
       "      <td>0.915250</td>\n",
       "      <td>192.334099</td>\n",
       "      <td>...</td>\n",
       "      <td>13.511049</td>\n",
       "      <td>13.580956</td>\n",
       "      <td>1.618142</td>\n",
       "      <td>0.0</td>\n",
       "      <td>18.262754</td>\n",
       "      <td>0.633665</td>\n",
       "      <td>0.882236</td>\n",
       "      <td>2.382909</td>\n",
       "      <td>1.356147</td>\n",
       "      <td>1.760087</td>\n",
       "    </tr>\n",
       "    <tr>\n",
       "      <th>2014.0</th>\n",
       "      <td>2.5</td>\n",
       "      <td>0.945483</td>\n",
       "      <td>0.478023</td>\n",
       "      <td>0.332294</td>\n",
       "      <td>0.122513</td>\n",
       "      <td>0.991535</td>\n",
       "      <td>0.731916</td>\n",
       "      <td>0.259170</td>\n",
       "      <td>0.911439</td>\n",
       "      <td>193.648791</td>\n",
       "      <td>...</td>\n",
       "      <td>15.107109</td>\n",
       "      <td>16.027793</td>\n",
       "      <td>2.188491</td>\n",
       "      <td>0.0</td>\n",
       "      <td>22.119735</td>\n",
       "      <td>0.644316</td>\n",
       "      <td>0.877314</td>\n",
       "      <td>2.385549</td>\n",
       "      <td>1.340584</td>\n",
       "      <td>1.833702</td>\n",
       "    </tr>\n",
       "    <tr>\n",
       "      <th>2015.0</th>\n",
       "      <td>2.0</td>\n",
       "      <td>0.935353</td>\n",
       "      <td>0.498154</td>\n",
       "      <td>0.344650</td>\n",
       "      <td>0.128107</td>\n",
       "      <td>0.990476</td>\n",
       "      <td>0.724211</td>\n",
       "      <td>0.266548</td>\n",
       "      <td>0.903198</td>\n",
       "      <td>189.387058</td>\n",
       "      <td>...</td>\n",
       "      <td>15.526445</td>\n",
       "      <td>16.175452</td>\n",
       "      <td>3.112969</td>\n",
       "      <td>0.0</td>\n",
       "      <td>23.535234</td>\n",
       "      <td>0.643780</td>\n",
       "      <td>0.882066</td>\n",
       "      <td>2.414324</td>\n",
       "      <td>1.307472</td>\n",
       "      <td>1.827635</td>\n",
       "    </tr>\n",
       "  </tbody>\n",
       "</table>\n",
       "<p>6 rows × 23 columns</p>\n",
       "</div>"
      ],
      "text/plain": [
       "        quarter  v1_4hr_target  v2_adm_ratio  v3_adm_ratio_ED  \\\n",
       "year                                                            \n",
       "2010.0      4.0       0.958870      0.485986         0.325620   \n",
       "2011.0      2.5       0.963219      0.443115         0.305637   \n",
       "2012.0      3.0       0.957191      0.451919         0.313491   \n",
       "2013.0      2.5       0.952423      0.474658         0.323700   \n",
       "2014.0      2.5       0.945483      0.478023         0.332294   \n",
       "2015.0      2.0       0.935353      0.498154         0.344650   \n",
       "\n",
       "        v4_adm_ratio_other  v5_adm_4hr_target  v6_type1_vs_all_adm_ratio  \\\n",
       "year                                                                       \n",
       "2010.0            0.142890           0.995812                   0.689255   \n",
       "2011.0            0.119306           0.997127                   0.701646   \n",
       "2012.0            0.115404           0.995989                   0.716683   \n",
       "2013.0            0.118077           0.994265                   0.723190   \n",
       "2014.0            0.122513           0.991535                   0.731916   \n",
       "2015.0            0.128107           0.990476                   0.724211   \n",
       "\n",
       "        v7_other_vs_all_adm_ratio  v30_daybed_occ_perc  v31_daybed_adm_ratio  \\\n",
       "year                                                                           \n",
       "2010.0                   0.293065                  NaN                   NaN   \n",
       "2011.0                   0.283053             0.914900            186.253217   \n",
       "2012.0                   0.272150             0.911494            203.360403   \n",
       "2013.0                   0.264959             0.915250            192.334099   \n",
       "2014.0                   0.259170             0.911439            193.648791   \n",
       "2015.0                   0.266548             0.903198            189.387058   \n",
       "\n",
       "                     ...                 v35_nightbed_adm_ratio_ED  \\\n",
       "year                 ...                                             \n",
       "2010.0               ...                                       NaN   \n",
       "2011.0               ...                                 12.020868   \n",
       "2012.0               ...                                 13.525825   \n",
       "2013.0               ...                                 13.511049   \n",
       "2014.0               ...                                 15.107109   \n",
       "2015.0               ...                                 15.526445   \n",
       "\n",
       "        v40_days_delay_NHS  v41_days_delay_SCare  v42_days_delay_both  \\\n",
       "year                                                                    \n",
       "2010.0                 NaN                   NaN                  NaN   \n",
       "2011.0           11.163805              1.713690                  0.0   \n",
       "2012.0           12.288197              1.769909                  0.0   \n",
       "2013.0           13.580956              1.618142                  0.0   \n",
       "2014.0           16.027793              2.188491                  0.0   \n",
       "2015.0           16.175452              3.112969                  0.0   \n",
       "\n",
       "        v43_days_delay_sum  v50_elec_adm_gp_prop  \\\n",
       "year                                               \n",
       "2010.0                 NaN                   NaN   \n",
       "2011.0           16.397871              0.626592   \n",
       "2012.0           18.205116              0.627774   \n",
       "2013.0           18.262754              0.633665   \n",
       "2014.0           22.119735              0.644316   \n",
       "2015.0           23.535234              0.643780   \n",
       "\n",
       "        v51_elec_adm_vs_decision_to_admit  v52_gp_ref_elec_adm_ratio  \\\n",
       "year                                                                   \n",
       "2010.0                                NaN                        NaN   \n",
       "2011.0                           0.895568                   2.287555   \n",
       "2012.0                           0.891065                   2.318313   \n",
       "2013.0                           0.882236                   2.382909   \n",
       "2014.0                           0.877314                   2.385549   \n",
       "2015.0                           0.882066                   2.414324   \n",
       "\n",
       "        v53_ED_elective_adm_ratio  v54_emerg_vs_elective_adm_ratio  \n",
       "year                                                                \n",
       "2010.0                        NaN                              NaN  \n",
       "2011.0                   1.226509                         1.774814  \n",
       "2012.0                   1.353522                         1.810469  \n",
       "2013.0                   1.356147                         1.760087  \n",
       "2014.0                   1.340584                         1.833702  \n",
       "2015.0                   1.307472                         1.827635  \n",
       "\n",
       "[6 rows x 23 columns]"
      ]
     },
     "execution_count": 40,
     "metadata": {},
     "output_type": "execute_result"
    }
   ],
   "source": [
    "dta.groupby('year').median()"
   ]
  },
  {
   "cell_type": "code",
   "execution_count": 37,
   "metadata": {
    "collapsed": false
   },
   "outputs": [
    {
     "data": {
      "text/plain": [
       "<matplotlib.axes._subplots.AxesSubplot at 0x24a9968b630>"
      ]
     },
     "execution_count": 37,
     "metadata": {},
     "output_type": "execute_result"
    },
    {
     "data": {
      "image/png": "[encoded data removed]",
      "text/plain": [
       "<matplotlib.figure.Figure at 0x24a99689e10>"
      ]
     },
     "metadata": {},
     "output_type": "display_data"
    }
   ],
   "source": [
    "dta.groupby('year').median()[['v1_4hr_target', 'v2_adm_ratio',\n",
    "       'v3_adm_ratio_ED', 'v4_adm_ratio_other', 'v5_adm_4hr_target']].plot() #(x='year',)"
   ]
  },
  {
   "cell_type": "code",
   "execution_count": 44,
   "metadata": {
    "collapsed": false
   },
   "outputs": [
    {
     "data": {
      "text/plain": [
       "<matplotlib.axes._subplots.AxesSubplot at 0x24a984ed080>"
      ]
     },
     "execution_count": 44,
     "metadata": {},
     "output_type": "execute_result"
    },
    {
     "data": {
      "image/png": "[encoded data removed]",
      "text/plain": [
       "<matplotlib.figure.Figure at 0x24a984eb7b8>"
      ]
     },
     "metadata": {},
     "output_type": "display_data"
    }
   ],
   "source": [
    "dta.groupby('year').median()[['v6_type1_vs_all_adm_ratio', 'v7_other_vs_all_adm_ratio',\n",
    "       'v30_daybed_occ_perc', 'v31_daybed_adm_ratio',\n",
    "       'v32_daybed_adm_ratio_ED']].plot()"
   ]
  },
  {
   "cell_type": "markdown",
   "metadata": {},
   "source": [
    "### Need to think about making variables a ratio between 0-1 so can compare all at same time?"
   ]
  },
  {
   "cell_type": "markdown",
   "metadata": {},
   "source": [
    "# First regresion"
   ]
  },
  {
   "cell_type": "code",
   "execution_count": null,
   "metadata": {
    "collapsed": true
   },
   "outputs": [],
   "source": []
  },
  {
   "cell_type": "code",
   "execution_count": 45,
   "metadata": {
    "collapsed": true
   },
   "outputs": [],
   "source": [
    "import statsmodels.formula.api as smf"
   ]
  },
  {
   "cell_type": "markdown",
   "metadata": {},
   "source": [
    "### Choose data quarter"
   ]
  },
  {
   "cell_type": "code",
   "execution_count": 49,
   "metadata": {
    "collapsed": false
   },
   "outputs": [
    {
     "data": {
      "text/html": [
       "<div>\n",
       "<table border=\"1\" class=\"dataframe\">\n",
       "  <thead>\n",
       "    <tr style=\"text-align: right;\">\n",
       "      <th></th>\n",
       "      <th>year</th>\n",
       "      <th>quarter</th>\n",
       "      <th>org_code</th>\n",
       "      <th>v1_4hr_target</th>\n",
       "      <th>v2_adm_ratio</th>\n",
       "      <th>v3_adm_ratio_ED</th>\n",
       "      <th>v4_adm_ratio_other</th>\n",
       "      <th>v5_adm_4hr_target</th>\n",
       "      <th>v6_type1_vs_all_adm_ratio</th>\n",
       "      <th>v7_other_vs_all_adm_ratio</th>\n",
       "      <th>...</th>\n",
       "      <th>v35_nightbed_adm_ratio_ED</th>\n",
       "      <th>v40_days_delay_NHS</th>\n",
       "      <th>v41_days_delay_SCare</th>\n",
       "      <th>v42_days_delay_both</th>\n",
       "      <th>v43_days_delay_sum</th>\n",
       "      <th>v50_elec_adm_gp_prop</th>\n",
       "      <th>v51_elec_adm_vs_decision_to_admit</th>\n",
       "      <th>v52_gp_ref_elec_adm_ratio</th>\n",
       "      <th>v53_ED_elective_adm_ratio</th>\n",
       "      <th>v54_emerg_vs_elective_adm_ratio</th>\n",
       "    </tr>\n",
       "  </thead>\n",
       "  <tbody>\n",
       "    <tr>\n",
       "      <th>0</th>\n",
       "      <td>2010.0</td>\n",
       "      <td>4.0</td>\n",
       "      <td>RA2</td>\n",
       "      <td>0.932494</td>\n",
       "      <td>0.655829</td>\n",
       "      <td>0.571967</td>\n",
       "      <td>0.083862</td>\n",
       "      <td>1.000000</td>\n",
       "      <td>0.645103</td>\n",
       "      <td>0.127872</td>\n",
       "      <td>...</td>\n",
       "      <td>NaN</td>\n",
       "      <td>NaN</td>\n",
       "      <td>NaN</td>\n",
       "      <td>NaN</td>\n",
       "      <td>NaN</td>\n",
       "      <td>NaN</td>\n",
       "      <td>NaN</td>\n",
       "      <td>NaN</td>\n",
       "      <td>NaN</td>\n",
       "      <td>NaN</td>\n",
       "    </tr>\n",
       "    <tr>\n",
       "      <th>1</th>\n",
       "      <td>2010.0</td>\n",
       "      <td>4.0</td>\n",
       "      <td>RA3</td>\n",
       "      <td>0.934173</td>\n",
       "      <td>0.259067</td>\n",
       "      <td>0.228001</td>\n",
       "      <td>0.031066</td>\n",
       "      <td>0.999179</td>\n",
       "      <td>0.866878</td>\n",
       "      <td>0.119915</td>\n",
       "      <td>...</td>\n",
       "      <td>NaN</td>\n",
       "      <td>NaN</td>\n",
       "      <td>NaN</td>\n",
       "      <td>NaN</td>\n",
       "      <td>NaN</td>\n",
       "      <td>NaN</td>\n",
       "      <td>NaN</td>\n",
       "      <td>NaN</td>\n",
       "      <td>NaN</td>\n",
       "      <td>NaN</td>\n",
       "    </tr>\n",
       "    <tr>\n",
       "      <th>2</th>\n",
       "      <td>2010.0</td>\n",
       "      <td>4.0</td>\n",
       "      <td>RA4</td>\n",
       "      <td>0.948678</td>\n",
       "      <td>0.364295</td>\n",
       "      <td>0.322418</td>\n",
       "      <td>0.041877</td>\n",
       "      <td>1.000000</td>\n",
       "      <td>0.885048</td>\n",
       "      <td>0.114952</td>\n",
       "      <td>...</td>\n",
       "      <td>NaN</td>\n",
       "      <td>NaN</td>\n",
       "      <td>NaN</td>\n",
       "      <td>NaN</td>\n",
       "      <td>NaN</td>\n",
       "      <td>NaN</td>\n",
       "      <td>NaN</td>\n",
       "      <td>NaN</td>\n",
       "      <td>NaN</td>\n",
       "      <td>NaN</td>\n",
       "    </tr>\n",
       "    <tr>\n",
       "      <th>3</th>\n",
       "      <td>2010.0</td>\n",
       "      <td>4.0</td>\n",
       "      <td>RA7</td>\n",
       "      <td>0.937531</td>\n",
       "      <td>0.666667</td>\n",
       "      <td>0.490251</td>\n",
       "      <td>0.176415</td>\n",
       "      <td>0.976250</td>\n",
       "      <td>0.732560</td>\n",
       "      <td>0.264623</td>\n",
       "      <td>...</td>\n",
       "      <td>NaN</td>\n",
       "      <td>NaN</td>\n",
       "      <td>NaN</td>\n",
       "      <td>NaN</td>\n",
       "      <td>NaN</td>\n",
       "      <td>NaN</td>\n",
       "      <td>NaN</td>\n",
       "      <td>NaN</td>\n",
       "      <td>NaN</td>\n",
       "      <td>NaN</td>\n",
       "    </tr>\n",
       "    <tr>\n",
       "      <th>4</th>\n",
       "      <td>2010.0</td>\n",
       "      <td>4.0</td>\n",
       "      <td>RA9</td>\n",
       "      <td>0.987652</td>\n",
       "      <td>0.373792</td>\n",
       "      <td>0.356083</td>\n",
       "      <td>0.017708</td>\n",
       "      <td>0.998947</td>\n",
       "      <td>0.952625</td>\n",
       "      <td>0.047375</td>\n",
       "      <td>...</td>\n",
       "      <td>NaN</td>\n",
       "      <td>NaN</td>\n",
       "      <td>NaN</td>\n",
       "      <td>NaN</td>\n",
       "      <td>NaN</td>\n",
       "      <td>NaN</td>\n",
       "      <td>NaN</td>\n",
       "      <td>NaN</td>\n",
       "      <td>NaN</td>\n",
       "      <td>NaN</td>\n",
       "    </tr>\n",
       "  </tbody>\n",
       "</table>\n",
       "<p>5 rows × 25 columns</p>\n",
       "</div>"
      ],
      "text/plain": [
       "     year  quarter org_code  v1_4hr_target  v2_adm_ratio  v3_adm_ratio_ED  \\\n",
       "0  2010.0      4.0      RA2       0.932494      0.655829         0.571967   \n",
       "1  2010.0      4.0      RA3       0.934173      0.259067         0.228001   \n",
       "2  2010.0      4.0      RA4       0.948678      0.364295         0.322418   \n",
       "3  2010.0      4.0      RA7       0.937531      0.666667         0.490251   \n",
       "4  2010.0      4.0      RA9       0.987652      0.373792         0.356083   \n",
       "\n",
       "   v4_adm_ratio_other  v5_adm_4hr_target  v6_type1_vs_all_adm_ratio  \\\n",
       "0            0.083862           1.000000                   0.645103   \n",
       "1            0.031066           0.999179                   0.866878   \n",
       "2            0.041877           1.000000                   0.885048   \n",
       "3            0.176415           0.976250                   0.732560   \n",
       "4            0.017708           0.998947                   0.952625   \n",
       "\n",
       "   v7_other_vs_all_adm_ratio               ...                 \\\n",
       "0                   0.127872               ...                  \n",
       "1                   0.119915               ...                  \n",
       "2                   0.114952               ...                  \n",
       "3                   0.264623               ...                  \n",
       "4                   0.047375               ...                  \n",
       "\n",
       "   v35_nightbed_adm_ratio_ED  v40_days_delay_NHS  v41_days_delay_SCare  \\\n",
       "0                        NaN                 NaN                   NaN   \n",
       "1                        NaN                 NaN                   NaN   \n",
       "2                        NaN                 NaN                   NaN   \n",
       "3                        NaN                 NaN                   NaN   \n",
       "4                        NaN                 NaN                   NaN   \n",
       "\n",
       "   v42_days_delay_both  v43_days_delay_sum  v50_elec_adm_gp_prop  \\\n",
       "0                  NaN                 NaN                   NaN   \n",
       "1                  NaN                 NaN                   NaN   \n",
       "2                  NaN                 NaN                   NaN   \n",
       "3                  NaN                 NaN                   NaN   \n",
       "4                  NaN                 NaN                   NaN   \n",
       "\n",
       "   v51_elec_adm_vs_decision_to_admit  v52_gp_ref_elec_adm_ratio  \\\n",
       "0                                NaN                        NaN   \n",
       "1                                NaN                        NaN   \n",
       "2                                NaN                        NaN   \n",
       "3                                NaN                        NaN   \n",
       "4                                NaN                        NaN   \n",
       "\n",
       "   v53_ED_elective_adm_ratio  v54_emerg_vs_elective_adm_ratio  \n",
       "0                        NaN                              NaN  \n",
       "1                        NaN                              NaN  \n",
       "2                        NaN                              NaN  \n",
       "3                        NaN                              NaN  \n",
       "4                        NaN                              NaN  \n",
       "\n",
       "[5 rows x 25 columns]"
      ]
     },
     "execution_count": 49,
     "metadata": {},
     "output_type": "execute_result"
    }
   ],
   "source": [
    "dta.head()"
   ]
  },
  {
   "cell_type": "markdown",
   "metadata": {},
   "source": [
    "#### filter by year only"
   ]
  },
  {
   "cell_type": "code",
   "execution_count": 73,
   "metadata": {
    "collapsed": false
   },
   "outputs": [
    {
     "data": {
      "text/plain": [
       "(426, 25)"
      ]
     },
     "execution_count": 73,
     "metadata": {},
     "output_type": "execute_result"
    }
   ],
   "source": [
    "\n",
    "dta[dta['year'] == 2015].shape"
   ]
  },
  {
   "cell_type": "markdown",
   "metadata": {},
   "source": [
    "#### FIlter by year and quarter"
   ]
  },
  {
   "cell_type": "code",
   "execution_count": 89,
   "metadata": {
    "collapsed": false
   },
   "outputs": [],
   "source": [
    "dta_f = dta[(dta['year'] == 2015) & (dta['quarter'] == 1.0)]"
   ]
  },
  {
   "cell_type": "code",
   "execution_count": 90,
   "metadata": {
    "collapsed": false
   },
   "outputs": [
    {
     "data": {
      "text/html": [
       "<div>\n",
       "<table border=\"1\" class=\"dataframe\">\n",
       "  <thead>\n",
       "    <tr style=\"text-align: right;\">\n",
       "      <th></th>\n",
       "      <th>year</th>\n",
       "      <th>quarter</th>\n",
       "      <th>org_code</th>\n",
       "      <th>v1_4hr_target</th>\n",
       "      <th>v2_adm_ratio</th>\n",
       "      <th>v3_adm_ratio_ED</th>\n",
       "      <th>v4_adm_ratio_other</th>\n",
       "      <th>v5_adm_4hr_target</th>\n",
       "      <th>v6_type1_vs_all_adm_ratio</th>\n",
       "      <th>v7_other_vs_all_adm_ratio</th>\n",
       "      <th>...</th>\n",
       "      <th>v35_nightbed_adm_ratio_ED</th>\n",
       "      <th>v40_days_delay_NHS</th>\n",
       "      <th>v41_days_delay_SCare</th>\n",
       "      <th>v42_days_delay_both</th>\n",
       "      <th>v43_days_delay_sum</th>\n",
       "      <th>v50_elec_adm_gp_prop</th>\n",
       "      <th>v51_elec_adm_vs_decision_to_admit</th>\n",
       "      <th>v52_gp_ref_elec_adm_ratio</th>\n",
       "      <th>v53_ED_elective_adm_ratio</th>\n",
       "      <th>v54_emerg_vs_elective_adm_ratio</th>\n",
       "    </tr>\n",
       "  </thead>\n",
       "  <tbody>\n",
       "    <tr>\n",
       "      <th>2402</th>\n",
       "      <td>2015.0</td>\n",
       "      <td>1.0</td>\n",
       "      <td>R1F</td>\n",
       "      <td>0.893617</td>\n",
       "      <td>0.360392</td>\n",
       "      <td>0.294877</td>\n",
       "      <td>0.065514</td>\n",
       "      <td>0.961440</td>\n",
       "      <td>0.818213</td>\n",
       "      <td>0.181787</td>\n",
       "      <td>...</td>\n",
       "      <td>12.853646</td>\n",
       "      <td>32.733333</td>\n",
       "      <td>1.300000</td>\n",
       "      <td>0.000000</td>\n",
       "      <td>34.033333</td>\n",
       "      <td>0.561947</td>\n",
       "      <td>0.717077</td>\n",
       "      <td>5.527251</td>\n",
       "      <td>2.799763</td>\n",
       "      <td>3.421801</td>\n",
       "    </tr>\n",
       "    <tr>\n",
       "      <th>2403</th>\n",
       "      <td>2015.0</td>\n",
       "      <td>1.0</td>\n",
       "      <td>R1H</td>\n",
       "      <td>0.882991</td>\n",
       "      <td>0.712652</td>\n",
       "      <td>0.575711</td>\n",
       "      <td>0.136941</td>\n",
       "      <td>0.966786</td>\n",
       "      <td>0.807843</td>\n",
       "      <td>0.192157</td>\n",
       "      <td>...</td>\n",
       "      <td>31.975706</td>\n",
       "      <td>10.367399</td>\n",
       "      <td>2.461896</td>\n",
       "      <td>0.158832</td>\n",
       "      <td>12.988128</td>\n",
       "      <td>0.640793</td>\n",
       "      <td>0.687231</td>\n",
       "      <td>3.810224</td>\n",
       "      <td>3.398008</td>\n",
       "      <td>4.206271</td>\n",
       "    </tr>\n",
       "    <tr>\n",
       "      <th>2404</th>\n",
       "      <td>2015.0</td>\n",
       "      <td>1.0</td>\n",
       "      <td>RA2</td>\n",
       "      <td>0.930624</td>\n",
       "      <td>0.758763</td>\n",
       "      <td>0.694490</td>\n",
       "      <td>0.064273</td>\n",
       "      <td>1.000000</td>\n",
       "      <td>0.835388</td>\n",
       "      <td>0.084708</td>\n",
       "      <td>...</td>\n",
       "      <td>22.241245</td>\n",
       "      <td>1.490683</td>\n",
       "      <td>0.082816</td>\n",
       "      <td>1.853002</td>\n",
       "      <td>3.426501</td>\n",
       "      <td>0.649310</td>\n",
       "      <td>0.850401</td>\n",
       "      <td>2.901523</td>\n",
       "      <td>2.073268</td>\n",
       "      <td>2.265143</td>\n",
       "    </tr>\n",
       "    <tr>\n",
       "      <th>2405</th>\n",
       "      <td>2015.0</td>\n",
       "      <td>1.0</td>\n",
       "      <td>RA3</td>\n",
       "      <td>0.899657</td>\n",
       "      <td>0.276130</td>\n",
       "      <td>0.249561</td>\n",
       "      <td>0.026569</td>\n",
       "      <td>0.996825</td>\n",
       "      <td>0.903782</td>\n",
       "      <td>0.096218</td>\n",
       "      <td>...</td>\n",
       "      <td>12.006163</td>\n",
       "      <td>23.019231</td>\n",
       "      <td>0.000000</td>\n",
       "      <td>0.000000</td>\n",
       "      <td>23.019231</td>\n",
       "      <td>0.746496</td>\n",
       "      <td>0.797088</td>\n",
       "      <td>1.755361</td>\n",
       "      <td>1.186259</td>\n",
       "      <td>1.312550</td>\n",
       "    </tr>\n",
       "    <tr>\n",
       "      <th>2406</th>\n",
       "      <td>2015.0</td>\n",
       "      <td>1.0</td>\n",
       "      <td>RA4</td>\n",
       "      <td>0.941042</td>\n",
       "      <td>0.417259</td>\n",
       "      <td>0.361491</td>\n",
       "      <td>0.055768</td>\n",
       "      <td>0.998178</td>\n",
       "      <td>0.866346</td>\n",
       "      <td>0.133654</td>\n",
       "      <td>...</td>\n",
       "      <td>10.603172</td>\n",
       "      <td>24.705446</td>\n",
       "      <td>15.349010</td>\n",
       "      <td>0.000000</td>\n",
       "      <td>40.054455</td>\n",
       "      <td>0.659911</td>\n",
       "      <td>0.910388</td>\n",
       "      <td>2.173981</td>\n",
       "      <td>1.243574</td>\n",
       "      <td>1.435423</td>\n",
       "    </tr>\n",
       "  </tbody>\n",
       "</table>\n",
       "<p>5 rows × 25 columns</p>\n",
       "</div>"
      ],
      "text/plain": [
       "        year  quarter org_code  v1_4hr_target  v2_adm_ratio  v3_adm_ratio_ED  \\\n",
       "2402  2015.0      1.0      R1F       0.893617      0.360392         0.294877   \n",
       "2403  2015.0      1.0      R1H       0.882991      0.712652         0.575711   \n",
       "2404  2015.0      1.0      RA2       0.930624      0.758763         0.694490   \n",
       "2405  2015.0      1.0      RA3       0.899657      0.276130         0.249561   \n",
       "2406  2015.0      1.0      RA4       0.941042      0.417259         0.361491   \n",
       "\n",
       "      v4_adm_ratio_other  v5_adm_4hr_target  v6_type1_vs_all_adm_ratio  \\\n",
       "2402            0.065514           0.961440                   0.818213   \n",
       "2403            0.136941           0.966786                   0.807843   \n",
       "2404            0.064273           1.000000                   0.835388   \n",
       "2405            0.026569           0.996825                   0.903782   \n",
       "2406            0.055768           0.998178                   0.866346   \n",
       "\n",
       "      v7_other_vs_all_adm_ratio               ...                 \\\n",
       "2402                   0.181787               ...                  \n",
       "2403                   0.192157               ...                  \n",
       "2404                   0.084708               ...                  \n",
       "2405                   0.096218               ...                  \n",
       "2406                   0.133654               ...                  \n",
       "\n",
       "      v35_nightbed_adm_ratio_ED  v40_days_delay_NHS  v41_days_delay_SCare  \\\n",
       "2402                  12.853646           32.733333              1.300000   \n",
       "2403                  31.975706           10.367399              2.461896   \n",
       "2404                  22.241245            1.490683              0.082816   \n",
       "2405                  12.006163           23.019231              0.000000   \n",
       "2406                  10.603172           24.705446             15.349010   \n",
       "\n",
       "      v42_days_delay_both  v43_days_delay_sum  v50_elec_adm_gp_prop  \\\n",
       "2402             0.000000           34.033333              0.561947   \n",
       "2403             0.158832           12.988128              0.640793   \n",
       "2404             1.853002            3.426501              0.649310   \n",
       "2405             0.000000           23.019231              0.746496   \n",
       "2406             0.000000           40.054455              0.659911   \n",
       "\n",
       "      v51_elec_adm_vs_decision_to_admit  v52_gp_ref_elec_adm_ratio  \\\n",
       "2402                           0.717077                   5.527251   \n",
       "2403                           0.687231                   3.810224   \n",
       "2404                           0.850401                   2.901523   \n",
       "2405                           0.797088                   1.755361   \n",
       "2406                           0.910388                   2.173981   \n",
       "\n",
       "      v53_ED_elective_adm_ratio  v54_emerg_vs_elective_adm_ratio  \n",
       "2402                   2.799763                         3.421801  \n",
       "2403                   3.398008                         4.206271  \n",
       "2404                   2.073268                         2.265143  \n",
       "2405                   1.186259                         1.312550  \n",
       "2406                   1.243574                         1.435423  \n",
       "\n",
       "[5 rows x 25 columns]"
      ]
     },
     "execution_count": 90,
     "metadata": {},
     "output_type": "execute_result"
    }
   ],
   "source": [
    "dta_f.head()"
   ]
  },
  {
   "cell_type": "markdown",
   "metadata": {},
   "source": [
    "#### choose variable"
   ]
  },
  {
   "cell_type": "code",
   "execution_count": 167,
   "metadata": {
    "collapsed": true
   },
   "outputs": [],
   "source": [
    "x_var = 'v6_type1_vs_all_adm_ratio'#'v30_daybed_occ_perc'\n",
    "y_var = 'v1_4hr_target'"
   ]
  },
  {
   "cell_type": "code",
   "execution_count": 168,
   "metadata": {
    "collapsed": false
   },
   "outputs": [],
   "source": [
    "lm = smf.ols(formula= y_var +' ~ ' + x_var, data=dta_f).fit()"
   ]
  },
  {
   "cell_type": "code",
   "execution_count": 169,
   "metadata": {
    "collapsed": false
   },
   "outputs": [
    {
     "data": {
      "text/plain": [
       "Intercept                    0.923419\n",
       "v6_type1_vs_all_adm_ratio   -0.030595\n",
       "dtype: float64"
      ]
     },
     "execution_count": 169,
     "metadata": {},
     "output_type": "execute_result"
    }
   ],
   "source": [
    "lm.params"
   ]
  },
  {
   "cell_type": "markdown",
   "metadata": {},
   "source": [
    "#### calc values for plot"
   ]
  },
  {
   "cell_type": "markdown",
   "metadata": {},
   "source": [
    "X_new = pd.DataFrame({x_var: [dta_f[x_var].min(), dta_f[x_var].max()]})\n",
    "X_new.head()"
   ]
  },
  {
   "cell_type": "code",
   "execution_count": 170,
   "metadata": {
    "collapsed": true
   },
   "outputs": [],
   "source": [
    "import patsy"
   ]
  },
  {
   "cell_type": "code",
   "execution_count": 171,
   "metadata": {
    "collapsed": false
   },
   "outputs": [
    {
     "name": "stderr",
     "output_type": "stream",
     "text": [
      "C:\\Anaconda3\\lib\\site-packages\\ipykernel\\__main__.py:1: FutureWarning: sort(columns=....) is deprecated, use sort_values(by=.....)\n",
      "  if __name__ == '__main__':\n",
      "C:\\Anaconda3\\lib\\site-packages\\pandas\\core\\frame.py:3225: SettingWithCopyWarning: \n",
      "A value is trying to be set on a copy of a slice from a DataFrame\n",
      "\n",
      "See the caveats in the documentation: http://pandas.pydata.org/pandas-docs/stable/indexing.html#indexing-view-versus-copy\n",
      "  na_position=na_position)\n"
     ]
    }
   ],
   "source": [
    "dta_f.sort(x_var,inplace=True)\n",
    "x = patsy.dmatrix(x_var, data=dta_f) \n",
    "preds = lm.predict(x, transform=False)\n",
    "#preds"
   ]
  },
  {
   "cell_type": "code",
   "execution_count": 172,
   "metadata": {
    "collapsed": false
   },
   "outputs": [
    {
     "data": {
      "text/plain": [
       "[<matplotlib.lines.Line2D at 0x24a9b041f98>,\n",
       " <matplotlib.lines.Line2D at 0x24a9b04ca90>]"
      ]
     },
     "execution_count": 172,
     "metadata": {},
     "output_type": "execute_result"
    },
    {
     "data": {
      "image/png": "[encoded data removed]",
      "text/plain": [
       "<matplotlib.figure.Figure at 0x24a9af97eb8>"
      ]
     },
     "metadata": {},
     "output_type": "display_data"
    }
   ],
   "source": [
    "#scatter\n",
    "dta_f.plot(kind='scatter',x=x_var, y = 'v1_4hr_target')\n",
    "\n",
    "#regression line\n",
    "plt.plot(x,preds,c='red')"
   ]
  },
  {
   "cell_type": "code",
   "execution_count": 173,
   "metadata": {
    "collapsed": false
   },
   "outputs": [
    {
     "data": {
      "text/html": [
       "<table class=\"simpletable\">\n",
       "<caption>OLS Regression Results</caption>\n",
       "<tr>\n",
       "  <th>Dep. Variable:</th>      <td>v1_4hr_target</td>  <th>  R-squared:         </th> <td>   0.010</td>\n",
       "</tr>\n",
       "<tr>\n",
       "  <th>Model:</th>                   <td>OLS</td>       <th>  Adj. R-squared:    </th> <td>   0.003</td>\n",
       "</tr>\n",
       "<tr>\n",
       "  <th>Method:</th>             <td>Least Squares</td>  <th>  F-statistic:       </th> <td>   1.400</td>\n",
       "</tr>\n",
       "<tr>\n",
       "  <th>Date:</th>             <td>Tue, 14 Feb 2017</td> <th>  Prob (F-statistic):</th>  <td> 0.239</td> \n",
       "</tr>\n",
       "<tr>\n",
       "  <th>Time:</th>                 <td>15:50:11</td>     <th>  Log-Likelihood:    </th> <td>  222.54</td>\n",
       "</tr>\n",
       "<tr>\n",
       "  <th>No. Observations:</th>      <td>   142</td>      <th>  AIC:               </th> <td>  -441.1</td>\n",
       "</tr>\n",
       "<tr>\n",
       "  <th>Df Residuals:</th>          <td>   140</td>      <th>  BIC:               </th> <td>  -435.2</td>\n",
       "</tr>\n",
       "<tr>\n",
       "  <th>Df Model:</th>              <td>     1</td>      <th>                     </th>     <td> </td>   \n",
       "</tr>\n",
       "<tr>\n",
       "  <th>Covariance Type:</th>      <td>nonrobust</td>    <th>                     </th>     <td> </td>   \n",
       "</tr>\n",
       "</table>\n",
       "<table class=\"simpletable\">\n",
       "<tr>\n",
       "              <td></td>                 <th>coef</th>     <th>std err</th>      <th>t</th>      <th>P>|t|</th> <th>[95.0% Conf. Int.]</th> \n",
       "</tr>\n",
       "<tr>\n",
       "  <th>Intercept</th>                 <td>    0.9234</td> <td>    0.019</td> <td>   48.104</td> <td> 0.000</td> <td>    0.885     0.961</td>\n",
       "</tr>\n",
       "<tr>\n",
       "  <th>v6_type1_vs_all_adm_ratio</th> <td>   -0.0306</td> <td>    0.026</td> <td>   -1.183</td> <td> 0.239</td> <td>   -0.082     0.021</td>\n",
       "</tr>\n",
       "</table>\n",
       "<table class=\"simpletable\">\n",
       "<tr>\n",
       "  <th>Omnibus:</th>       <td>10.228</td> <th>  Durbin-Watson:     </th> <td>   1.941</td>\n",
       "</tr>\n",
       "<tr>\n",
       "  <th>Prob(Omnibus):</th> <td> 0.006</td> <th>  Jarque-Bera (JB):  </th> <td>  11.050</td>\n",
       "</tr>\n",
       "<tr>\n",
       "  <th>Skew:</th>          <td>-0.682</td> <th>  Prob(JB):          </th> <td> 0.00399</td>\n",
       "</tr>\n",
       "<tr>\n",
       "  <th>Kurtosis:</th>      <td> 2.921</td> <th>  Cond. No.          </th> <td>    9.29</td>\n",
       "</tr>\n",
       "</table>"
      ],
      "text/plain": [
       "<class 'statsmodels.iolib.summary.Summary'>\n",
       "\"\"\"\n",
       "                            OLS Regression Results                            \n",
       "==============================================================================\n",
       "Dep. Variable:          v1_4hr_target   R-squared:                       0.010\n",
       "Model:                            OLS   Adj. R-squared:                  0.003\n",
       "Method:                 Least Squares   F-statistic:                     1.400\n",
       "Date:                Tue, 14 Feb 2017   Prob (F-statistic):              0.239\n",
       "Time:                        15:50:11   Log-Likelihood:                 222.54\n",
       "No. Observations:                 142   AIC:                            -441.1\n",
       "Df Residuals:                     140   BIC:                            -435.2\n",
       "Df Model:                           1                                         \n",
       "Covariance Type:            nonrobust                                         \n",
       "=============================================================================================\n",
       "                                coef    std err          t      P>|t|      [95.0% Conf. Int.]\n",
       "---------------------------------------------------------------------------------------------\n",
       "Intercept                     0.9234      0.019     48.104      0.000         0.885     0.961\n",
       "v6_type1_vs_all_adm_ratio    -0.0306      0.026     -1.183      0.239        -0.082     0.021\n",
       "==============================================================================\n",
       "Omnibus:                       10.228   Durbin-Watson:                   1.941\n",
       "Prob(Omnibus):                  0.006   Jarque-Bera (JB):               11.050\n",
       "Skew:                          -0.682   Prob(JB):                      0.00399\n",
       "Kurtosis:                       2.921   Cond. No.                         9.29\n",
       "==============================================================================\n",
       "\n",
       "Warnings:\n",
       "[1] Standard Errors assume that the covariance matrix of the errors is correctly specified.\n",
       "\"\"\""
      ]
     },
     "execution_count": 173,
     "metadata": {},
     "output_type": "execute_result"
    }
   ],
   "source": [
    "lm.summary()"
   ]
  },
  {
   "cell_type": "markdown",
   "metadata": {},
   "source": [
    "# Dev"
   ]
  },
  {
   "cell_type": "markdown",
   "metadata": {},
   "source": [
    "Quarterly data much more variant"
   ]
  },
  {
   "cell_type": "code",
   "execution_count": 38,
   "metadata": {
    "collapsed": false
   },
   "outputs": [
    {
     "data": {
      "text/plain": [
       "<matplotlib.axes._subplots.AxesSubplot at 0x24a98253748>"
      ]
     },
     "execution_count": 38,
     "metadata": {},
     "output_type": "execute_result"
    },
    {
     "data": {
      "image/png": "[encoded data removed]",
      "text/plain": [
       "<matplotlib.figure.Figure at 0x24a9981deb8>"
      ]
     },
     "metadata": {},
     "output_type": "display_data"
    }
   ],
   "source": [
    "dta.groupby(['year','quarter']).median()[['v1_4hr_target', 'v2_adm_ratio',\n",
    "       'v3_adm_ratio_ED', 'v4_adm_ratio_other', 'v5_adm_4hr_target']].plot() #(x='year',)"
   ]
  },
  {
   "cell_type": "code",
   "execution_count": null,
   "metadata": {
    "collapsed": true
   },
   "outputs": [],
   "source": []
  }
 ],
 "metadata": {
  "kernelspec": {
   "display_name": "Python [conda root]",
   "language": "python",
   "name": "conda-root-py"
  },
  "language_info": {
   "codemirror_mode": {
    "name": "ipython",
    "version": 3
   },
   "file_extension": ".py",
   "mimetype": "text/x-python",
   "name": "python",
   "nbconvert_exporter": "python",
   "pygments_lexer": "ipython3",
   "version": "3.5.2"
  }
 },
 "nbformat": 4,
 "nbformat_minor": 2
}
